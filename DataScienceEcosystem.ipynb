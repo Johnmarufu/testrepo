Data Science Tools and Ecosystem
In this notebook, Data Science Tools and Ecosystem are summarized.
Objectives:
-List popular languages for Data Science.
-libraries used by Data Scientists include
-Data Science Tools 
Some of the popular languages that Data Scientists use are:("python,Java,R")
Some of the commonly used libraries used by Data Scientists include:("tensorflow,pytorch,scipy")
| Data Science Tools          |
|-------------|----------------|
|    1        |  Jupiter notebooks |
|    2        |  Pytorch     |
|    3        |  chatGPT     |
Below are a few examples of evaluating arithmetic expressions in Python
(3*4)+5
 This will convert 200 minutes to hours by diving by 60
 Author 
 John Marufu